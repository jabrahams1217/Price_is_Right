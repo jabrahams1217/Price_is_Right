{
 "cells": [
  {
   "cell_type": "markdown",
   "id": "e6103024",
   "metadata": {},
   "source": [
    "# Validation of Statistical Method for TPIR Contestant Fairness"
   ]
  },
  {
   "cell_type": "code",
   "execution_count": 6,
   "id": "972366e3",
   "metadata": {},
   "outputs": [],
   "source": [
    "import pandas as pd\n",
    "import numpy as np"
   ]
  },
  {
   "cell_type": "code",
   "execution_count": 7,
   "id": "55b90c35",
   "metadata": {},
   "outputs": [
    {
     "data": {
      "text/html": [
       "<div>\n",
       "<style scoped>\n",
       "    .dataframe tbody tr th:only-of-type {\n",
       "        vertical-align: middle;\n",
       "    }\n",
       "\n",
       "    .dataframe tbody tr th {\n",
       "        vertical-align: top;\n",
       "    }\n",
       "\n",
       "    .dataframe thead th {\n",
       "        text-align: right;\n",
       "    }\n",
       "</style>\n",
       "<table border=\"1\" class=\"dataframe\">\n",
       "  <thead>\n",
       "    <tr style=\"text-align: right;\">\n",
       "      <th></th>\n",
       "      <th>first</th>\n",
       "      <th>second</th>\n",
       "      <th>third</th>\n",
       "      <th>fourth</th>\n",
       "      <th>retail</th>\n",
       "    </tr>\n",
       "    <tr>\n",
       "      <th>date</th>\n",
       "      <th></th>\n",
       "      <th></th>\n",
       "      <th></th>\n",
       "      <th></th>\n",
       "      <th></th>\n",
       "    </tr>\n",
       "  </thead>\n",
       "  <tbody>\n",
       "    <tr>\n",
       "      <th>1972-09-04</th>\n",
       "      <td>350</td>\n",
       "      <td>900</td>\n",
       "      <td>150</td>\n",
       "      <td>1000</td>\n",
       "      <td>595</td>\n",
       "    </tr>\n",
       "    <tr>\n",
       "      <th>1981-02-12</th>\n",
       "      <td>625</td>\n",
       "      <td>650</td>\n",
       "      <td>900</td>\n",
       "      <td>651</td>\n",
       "      <td>1095</td>\n",
       "    </tr>\n",
       "    <tr>\n",
       "      <th>1991-11-14</th>\n",
       "      <td>1130</td>\n",
       "      <td>1500</td>\n",
       "      <td>1150</td>\n",
       "      <td>1200</td>\n",
       "      <td>1700</td>\n",
       "    </tr>\n",
       "    <tr>\n",
       "      <th>1986-09-30</th>\n",
       "      <td>1002</td>\n",
       "      <td>850</td>\n",
       "      <td>785</td>\n",
       "      <td>1100</td>\n",
       "      <td>1449</td>\n",
       "    </tr>\n",
       "    <tr>\n",
       "      <th>1992-12-01</th>\n",
       "      <td>950</td>\n",
       "      <td>569</td>\n",
       "      <td>1002</td>\n",
       "      <td>1003</td>\n",
       "      <td>1951</td>\n",
       "    </tr>\n",
       "    <tr>\n",
       "      <th>...</th>\n",
       "      <td>...</td>\n",
       "      <td>...</td>\n",
       "      <td>...</td>\n",
       "      <td>...</td>\n",
       "      <td>...</td>\n",
       "    </tr>\n",
       "    <tr>\n",
       "      <th>1992-03-17</th>\n",
       "      <td>625</td>\n",
       "      <td>850</td>\n",
       "      <td>950</td>\n",
       "      <td>725</td>\n",
       "      <td>1083</td>\n",
       "    </tr>\n",
       "    <tr>\n",
       "      <th>1994-04-24</th>\n",
       "      <td>528</td>\n",
       "      <td>1050</td>\n",
       "      <td>750</td>\n",
       "      <td>1300</td>\n",
       "      <td>1800</td>\n",
       "    </tr>\n",
       "    <tr>\n",
       "      <th>1996-05-02</th>\n",
       "      <td>450</td>\n",
       "      <td>550</td>\n",
       "      <td>1500</td>\n",
       "      <td>551</td>\n",
       "      <td>1288</td>\n",
       "    </tr>\n",
       "    <tr>\n",
       "      <th>1995-09-14</th>\n",
       "      <td>700</td>\n",
       "      <td>600</td>\n",
       "      <td>500</td>\n",
       "      <td>550</td>\n",
       "      <td>1005</td>\n",
       "    </tr>\n",
       "    <tr>\n",
       "      <th>1996-05-03</th>\n",
       "      <td>700</td>\n",
       "      <td>600</td>\n",
       "      <td>800</td>\n",
       "      <td>250</td>\n",
       "      <td>602</td>\n",
       "    </tr>\n",
       "  </tbody>\n",
       "</table>\n",
       "<p>978 rows × 5 columns</p>\n",
       "</div>"
      ],
      "text/plain": [
       "0          first second third fourth retail\n",
       "date                                       \n",
       "1972-09-04   350    900   150   1000    595\n",
       "1981-02-12   625    650   900    651   1095\n",
       "1991-11-14  1130   1500  1150   1200   1700\n",
       "1986-09-30  1002    850   785   1100   1449\n",
       "1992-12-01   950    569  1002   1003   1951\n",
       "...          ...    ...   ...    ...    ...\n",
       "1992-03-17   625    850   950    725   1083\n",
       "1994-04-24   528   1050   750   1300   1800\n",
       "1996-05-02   450    550  1500    551   1288\n",
       "1995-09-14   700    600   500    550   1005\n",
       "1996-05-03   700    600   800    250    602\n",
       "\n",
       "[978 rows x 5 columns]"
      ]
     },
     "execution_count": 7,
     "metadata": {},
     "output_type": "execute_result"
    }
   ],
   "source": [
    "# Cleaning up the DataFrame\n",
    "df = pd.read_excel(\"./price_is_right.xlsx\", header=None).transpose()\n",
    "df.columns = df.iloc[0]\n",
    "df = df.drop(index=0).reset_index(drop=True)\n",
    "df['date'] = pd.to_datetime(df['date'])\n",
    "df = df.set_index('date')\n",
    "df.drop(columns=df.columns[0],inplace=True)\n",
    "df = df.drop_duplicates()\n",
    "df"
   ]
  },
  {
   "cell_type": "code",
   "execution_count": 8,
   "id": "18575652",
   "metadata": {},
   "outputs": [
    {
     "name": "stdout",
     "output_type": "stream",
     "text": [
      "<class 'pandas.core.frame.DataFrame'>\n",
      "DatetimeIndex: 978 entries, 1972-09-04 to 1996-05-03\n",
      "Data columns (total 5 columns):\n",
      " #   Column  Non-Null Count  Dtype\n",
      "---  ------  --------------  -----\n",
      " 0   first   978 non-null    int32\n",
      " 1   second  978 non-null    int32\n",
      " 2   third   978 non-null    int32\n",
      " 3   fourth  978 non-null    int32\n",
      " 4   retail  978 non-null    int32\n",
      "dtypes: int32(5)\n",
      "memory usage: 26.7 KB\n"
     ]
    }
   ],
   "source": [
    "df = df.astype(int)\n",
    "df.info()"
   ]
  },
  {
   "cell_type": "code",
   "execution_count": 9,
   "id": "dcd76a3c",
   "metadata": {},
   "outputs": [],
   "source": [
    "# Calculates the differences in price from the guesses and retail\n",
    "# retail - (first/second/third/fourth)\n",
    "diffs = df[['first','second','third','fourth']].rsub(df['retail'],axis=0)"
   ]
  },
  {
   "cell_type": "code",
   "execution_count": 10,
   "id": "fdf226c2",
   "metadata": {},
   "outputs": [
    {
     "data": {
      "text/html": [
       "<div>\n",
       "<style scoped>\n",
       "    .dataframe tbody tr th:only-of-type {\n",
       "        vertical-align: middle;\n",
       "    }\n",
       "\n",
       "    .dataframe tbody tr th {\n",
       "        vertical-align: top;\n",
       "    }\n",
       "\n",
       "    .dataframe thead th {\n",
       "        text-align: right;\n",
       "    }\n",
       "</style>\n",
       "<table border=\"1\" class=\"dataframe\">\n",
       "  <thead>\n",
       "    <tr style=\"text-align: right;\">\n",
       "      <th></th>\n",
       "      <th>first</th>\n",
       "      <th>second</th>\n",
       "      <th>third</th>\n",
       "      <th>fourth</th>\n",
       "    </tr>\n",
       "    <tr>\n",
       "      <th>date</th>\n",
       "      <th></th>\n",
       "      <th></th>\n",
       "      <th></th>\n",
       "      <th></th>\n",
       "    </tr>\n",
       "  </thead>\n",
       "  <tbody>\n",
       "    <tr>\n",
       "      <th>1972-09-04</th>\n",
       "      <td>245</td>\n",
       "      <td>-305</td>\n",
       "      <td>445</td>\n",
       "      <td>-405</td>\n",
       "    </tr>\n",
       "    <tr>\n",
       "      <th>1981-02-12</th>\n",
       "      <td>470</td>\n",
       "      <td>445</td>\n",
       "      <td>195</td>\n",
       "      <td>444</td>\n",
       "    </tr>\n",
       "    <tr>\n",
       "      <th>1991-11-14</th>\n",
       "      <td>570</td>\n",
       "      <td>200</td>\n",
       "      <td>550</td>\n",
       "      <td>500</td>\n",
       "    </tr>\n",
       "    <tr>\n",
       "      <th>1986-09-30</th>\n",
       "      <td>447</td>\n",
       "      <td>599</td>\n",
       "      <td>664</td>\n",
       "      <td>349</td>\n",
       "    </tr>\n",
       "    <tr>\n",
       "      <th>1992-12-01</th>\n",
       "      <td>1001</td>\n",
       "      <td>1382</td>\n",
       "      <td>949</td>\n",
       "      <td>948</td>\n",
       "    </tr>\n",
       "  </tbody>\n",
       "</table>\n",
       "</div>"
      ],
      "text/plain": [
       "0           first  second  third  fourth\n",
       "date                                    \n",
       "1972-09-04    245    -305    445    -405\n",
       "1981-02-12    470     445    195     444\n",
       "1991-11-14    570     200    550     500\n",
       "1986-09-30    447     599    664     349\n",
       "1992-12-01   1001    1382    949     948"
      ]
     },
     "execution_count": 10,
     "metadata": {},
     "output_type": "execute_result"
    }
   ],
   "source": [
    "diffs.head()"
   ]
  },
  {
   "cell_type": "code",
   "execution_count": 32,
   "id": "a2443284",
   "metadata": {},
   "outputs": [
    {
     "data": {
      "text/html": [
       "<div>\n",
       "<style scoped>\n",
       "    .dataframe tbody tr th:only-of-type {\n",
       "        vertical-align: middle;\n",
       "    }\n",
       "\n",
       "    .dataframe tbody tr th {\n",
       "        vertical-align: top;\n",
       "    }\n",
       "\n",
       "    .dataframe thead th {\n",
       "        text-align: right;\n",
       "    }\n",
       "</style>\n",
       "<table border=\"1\" class=\"dataframe\">\n",
       "  <thead>\n",
       "    <tr style=\"text-align: right;\">\n",
       "      <th></th>\n",
       "      <th>first</th>\n",
       "      <th>second</th>\n",
       "      <th>third</th>\n",
       "      <th>fourth</th>\n",
       "    </tr>\n",
       "    <tr>\n",
       "      <th>date</th>\n",
       "      <th></th>\n",
       "      <th></th>\n",
       "      <th></th>\n",
       "      <th></th>\n",
       "    </tr>\n",
       "  </thead>\n",
       "  <tbody>\n",
       "    <tr>\n",
       "      <th>1972-09-04</th>\n",
       "      <td>245.0</td>\n",
       "      <td>NaN</td>\n",
       "      <td>445.0</td>\n",
       "      <td>NaN</td>\n",
       "    </tr>\n",
       "    <tr>\n",
       "      <th>1981-02-12</th>\n",
       "      <td>470.0</td>\n",
       "      <td>445.0</td>\n",
       "      <td>195.0</td>\n",
       "      <td>444.0</td>\n",
       "    </tr>\n",
       "    <tr>\n",
       "      <th>1991-11-14</th>\n",
       "      <td>570.0</td>\n",
       "      <td>200.0</td>\n",
       "      <td>550.0</td>\n",
       "      <td>500.0</td>\n",
       "    </tr>\n",
       "    <tr>\n",
       "      <th>1986-09-30</th>\n",
       "      <td>447.0</td>\n",
       "      <td>599.0</td>\n",
       "      <td>664.0</td>\n",
       "      <td>349.0</td>\n",
       "    </tr>\n",
       "    <tr>\n",
       "      <th>1992-12-01</th>\n",
       "      <td>1001.0</td>\n",
       "      <td>1382.0</td>\n",
       "      <td>949.0</td>\n",
       "      <td>948.0</td>\n",
       "    </tr>\n",
       "  </tbody>\n",
       "</table>\n",
       "</div>"
      ],
      "text/plain": [
       "0            first  second  third  fourth\n",
       "date                                     \n",
       "1972-09-04   245.0     NaN  445.0     NaN\n",
       "1981-02-12   470.0   445.0  195.0   444.0\n",
       "1991-11-14   570.0   200.0  550.0   500.0\n",
       "1986-09-30   447.0   599.0  664.0   349.0\n",
       "1992-12-01  1001.0  1382.0  949.0   948.0"
      ]
     },
     "execution_count": 32,
     "metadata": {},
     "output_type": "execute_result"
    }
   ],
   "source": [
    "# Drop any guesses that go over (negative values) and replace with NaN's\n",
    "valid_diffs = diffs.mask(diffs < 0, other=pd.NA)\n",
    "valid_diffs.head()"
   ]
  },
  {
   "cell_type": "code",
   "execution_count": 22,
   "id": "cb1c3e8e",
   "metadata": {},
   "outputs": [
    {
     "data": {
      "text/html": [
       "<div>\n",
       "<style scoped>\n",
       "    .dataframe tbody tr th:only-of-type {\n",
       "        vertical-align: middle;\n",
       "    }\n",
       "\n",
       "    .dataframe tbody tr th {\n",
       "        vertical-align: top;\n",
       "    }\n",
       "\n",
       "    .dataframe thead th {\n",
       "        text-align: right;\n",
       "    }\n",
       "</style>\n",
       "<table border=\"1\" class=\"dataframe\">\n",
       "  <thead>\n",
       "    <tr style=\"text-align: right;\">\n",
       "      <th></th>\n",
       "      <th>first</th>\n",
       "      <th>second</th>\n",
       "      <th>third</th>\n",
       "      <th>fourth</th>\n",
       "    </tr>\n",
       "    <tr>\n",
       "      <th>date</th>\n",
       "      <th></th>\n",
       "      <th></th>\n",
       "      <th></th>\n",
       "      <th></th>\n",
       "    </tr>\n",
       "  </thead>\n",
       "  <tbody>\n",
       "    <tr>\n",
       "      <th>1972-09-04</th>\n",
       "      <td>245.0</td>\n",
       "      <td>NaN</td>\n",
       "      <td>445.0</td>\n",
       "      <td>NaN</td>\n",
       "    </tr>\n",
       "    <tr>\n",
       "      <th>1981-02-12</th>\n",
       "      <td>470.0</td>\n",
       "      <td>445.0</td>\n",
       "      <td>195.0</td>\n",
       "      <td>444.0</td>\n",
       "    </tr>\n",
       "    <tr>\n",
       "      <th>1991-11-14</th>\n",
       "      <td>570.0</td>\n",
       "      <td>200.0</td>\n",
       "      <td>550.0</td>\n",
       "      <td>500.0</td>\n",
       "    </tr>\n",
       "    <tr>\n",
       "      <th>1986-09-30</th>\n",
       "      <td>447.0</td>\n",
       "      <td>599.0</td>\n",
       "      <td>664.0</td>\n",
       "      <td>349.0</td>\n",
       "    </tr>\n",
       "    <tr>\n",
       "      <th>1992-12-01</th>\n",
       "      <td>1001.0</td>\n",
       "      <td>1382.0</td>\n",
       "      <td>949.0</td>\n",
       "      <td>948.0</td>\n",
       "    </tr>\n",
       "  </tbody>\n",
       "</table>\n",
       "</div>"
      ],
      "text/plain": [
       "0            first  second  third  fourth\n",
       "date                                     \n",
       "1972-09-04   245.0     NaN  445.0     NaN\n",
       "1981-02-12   470.0   445.0  195.0   444.0\n",
       "1991-11-14   570.0   200.0  550.0   500.0\n",
       "1986-09-30   447.0   599.0  664.0   349.0\n",
       "1992-12-01  1001.0  1382.0  949.0   948.0"
      ]
     },
     "execution_count": 22,
     "metadata": {},
     "output_type": "execute_result"
    }
   ],
   "source": [
    "# Drop any rounds where all contestants go over (rows with all NaN's)\n",
    "valid_diffs.dropna(how='all',inplace=True)\n",
    "valid_diffs.head(5)"
   ]
  },
  {
   "cell_type": "markdown",
   "id": "23504b5b",
   "metadata": {},
   "source": [
    "> Total Number of Valid Rounds (rounds with a winner)"
   ]
  },
  {
   "cell_type": "code",
   "execution_count": 23,
   "id": "cc684ff7",
   "metadata": {},
   "outputs": [
    {
     "data": {
      "text/plain": [
       "953"
      ]
     },
     "execution_count": 23,
     "metadata": {},
     "output_type": "execute_result"
    }
   ],
   "source": [
    "len(valid_diffs)"
   ]
  },
  {
   "cell_type": "markdown",
   "id": "4f6eb981",
   "metadata": {},
   "source": [
    "> Number of rounds where early player overbid"
   ]
  },
  {
   "cell_type": "code",
   "execution_count": 24,
   "id": "7b093ec9",
   "metadata": {},
   "outputs": [
    {
     "data": {
      "text/plain": [
       "25"
      ]
     },
     "execution_count": 24,
     "metadata": {},
     "output_type": "execute_result"
    }
   ],
   "source": [
    "len(df) - len(valid_diffs)"
   ]
  },
  {
   "cell_type": "markdown",
   "id": "1f436b63",
   "metadata": {},
   "source": [
    "> Number of Winners on Highest & Lowest Bid"
   ]
  },
  {
   "cell_type": "code",
   "execution_count": 33,
   "id": "e9ea998d",
   "metadata": {},
   "outputs": [
    {
     "name": "stdout",
     "output_type": "stream",
     "text": [
      "Number of Highest Bid Winners: 609\n",
      "Number of Lowest Bid Winners: 82\n"
     ]
    }
   ],
   "source": [
    "ct=0\n",
    "tot=0\n",
    "new_lst=[]\n",
    "tot_nan=[]\n",
    "for a in valid_diffs.iloc:\n",
    "    if 'n' not in [str(a['first'])[0], str(a['second'])[0], str(a['third'])[0], str(a['fourth'])[0]]:\n",
    "        ct+=1\n",
    "    \n",
    "    \n",
    "    new_lst=[str(a['first'])[0], str(a['second'])[0], str(a['third'])[0], str(a['fourth'])[0]]\n",
    "    new_lst=[a for a in new_lst if a=='n']\n",
    "    if len(new_lst)==3:\n",
    "        tot+=1\n",
    "        continue\n",
    "    continue\n",
    "\n",
    "print('Number of Highest Bid Winners: {}'.format(ct))\n",
    "print('Number of Lowest Bid Winners: {}'.format(tot))"
   ]
  },
  {
   "cell_type": "markdown",
   "id": "54799394",
   "metadata": {},
   "source": [
    "> Total Number of Overbids and Total Bids (including invalid rounds)"
   ]
  },
  {
   "cell_type": "code",
   "execution_count": 53,
   "id": "55298f9b",
   "metadata": {},
   "outputs": [
    {
     "name": "stdout",
     "output_type": "stream",
     "text": [
      "Number of Overbids: 706\n",
      "Number of Total Bids: 3912\n"
     ]
    }
   ],
   "source": [
    "tot_tot=0\n",
    "neg=0\n",
    "new_lst2=[]\n",
    "for a in diffs.iloc:\n",
    "    new_lst2=[str(a['first'])[0], str(a['second'])[0], str(a['third'])[0], str(a['fourth'])[0]]\n",
    "    tot_tot+=len(new_lst2)\n",
    "    new_lst2=[a for a in new_lst2 if a=='-']\n",
    "    neg+=len(new_lst2)\n",
    "    continue\n",
    "print('Number of Overbids: {}'.format(neg))        \n",
    "print('Number of Total Bids: {}'.format(tot_tot))   "
   ]
  },
  {
   "cell_type": "code",
   "execution_count": 25,
   "id": "ab39931d",
   "metadata": {},
   "outputs": [
    {
     "data": {
      "text/plain": [
       "date\n",
       "1972-09-04     first\n",
       "1981-02-12     third\n",
       "1991-11-14    second\n",
       "1986-09-30    fourth\n",
       "1992-12-01    fourth\n",
       "1990-04-23    fourth\n",
       "1986-12-05     first\n",
       "1991-09-10     third\n",
       "1985-10-15    fourth\n",
       "1976-03-11     first\n",
       "dtype: object"
      ]
     },
     "execution_count": 25,
     "metadata": {},
     "output_type": "execute_result"
    }
   ],
   "source": [
    "# Find the winners by finding the guess that has the least magnitude\n",
    "winners = valid_diffs.idxmin(axis=1)\n",
    "winners.head(10)"
   ]
  },
  {
   "cell_type": "markdown",
   "id": "8bf97796",
   "metadata": {},
   "source": [
    "> Number of Winners by Bidding Position"
   ]
  },
  {
   "cell_type": "code",
   "execution_count": 26,
   "id": "f9f419d3",
   "metadata": {},
   "outputs": [
    {
     "data": {
      "text/plain": [
       "first     176\n",
       "second    187\n",
       "third     220\n",
       "fourth    370\n",
       "dtype: int64"
      ]
     },
     "execution_count": 26,
     "metadata": {},
     "output_type": "execute_result"
    }
   ],
   "source": [
    "winners_count = winners.value_counts().reindex(['first', 'second', 'third', 'fourth'])\n",
    "winners_count"
   ]
  },
  {
   "cell_type": "markdown",
   "id": "561825fb",
   "metadata": {},
   "source": [
    "> Pearson chi-squared goodness-of-fit test using Scipy.\n",
    "    \n",
    "    -Null hypothesis that each player has probability of 0.25 of winning\n",
    "    -3 Degrees of Freedom\n",
    "    -1% Significnce Level\n",
    "    -Compared to 11.345 critical value"
   ]
  },
  {
   "cell_type": "code",
   "execution_count": 32,
   "id": "b59ebdf9",
   "metadata": {},
   "outputs": [
    {
     "name": "stdout",
     "output_type": "stream",
     "text": [
      "Observed: [176 187 220 370]\n",
      "Expected: [238.25, 238.25, 238.25, 238.25]\n",
      "Chi-squared statistic: 101.544\n",
      "p-value: 7.237e-22\n",
      "Critical value at α = 0.01 and dof = 3: 11.345\n"
     ]
    }
   ],
   "source": [
    "from scipy.stats import chisquare\n",
    "from scipy.stats import chi2\n",
    "\n",
    "# Get observed frequencies in a consistent order\n",
    "observed = winners.value_counts().reindex(['first', 'second', 'third', 'fourth'])\n",
    "\n",
    "# Create expected frequencies (equal distribution)\n",
    "total = observed.sum()\n",
    "expected = [total / 4] * 4\n",
    "\n",
    "# Run chi-squared test\n",
    "chi2_stat, p_value = chisquare(f_obs=observed, f_exp=expected)\n",
    "\n",
    "print(\"Observed:\", observed.values)\n",
    "print(\"Expected:\", expected)\n",
    "print(f\"Chi-squared statistic: {chi2_stat:.3f}\")\n",
    "print(f\"p-value: {p_value:.3e}\")\n",
    "\n",
    "# Significance level (e.g., 0.01 for 99% confidence)\n",
    "alpha = 0.01\n",
    "# Degrees of freedom\n",
    "dof = 3\n",
    "# Critical value (right-tail)\n",
    "critical_value = chi2.ppf(1 - alpha, dof)\n",
    "print(f\"Critical value at α = {alpha} and dof = {dof}: {critical_value:.3f}\")"
   ]
  },
  {
   "cell_type": "markdown",
   "id": "bc5ed1cf",
   "metadata": {},
   "source": [
    "> Since our calculated value for the Pearson chi-squared goodness-of-fit test of 101.544 exceeds the critical value of 11.345, we can reject the null hypothesis."
   ]
  },
  {
   "cell_type": "markdown",
   "id": "867559b4",
   "metadata": {},
   "source": [
    "> Replacing the final bid with 1 more than previous highest bid"
   ]
  },
  {
   "cell_type": "code",
   "execution_count": 26,
   "id": "69bb8a31",
   "metadata": {},
   "outputs": [],
   "source": [
    "new_fourth=[max(d['first'], d['second'], d['third'])+1 for d in df.iloc]\n",
    "df['fourth']=new_fourth"
   ]
  },
  {
   "cell_type": "code",
   "execution_count": 27,
   "id": "34e0778f",
   "metadata": {
    "scrolled": true
   },
   "outputs": [
    {
     "data": {
      "text/html": [
       "<div>\n",
       "<style scoped>\n",
       "    .dataframe tbody tr th:only-of-type {\n",
       "        vertical-align: middle;\n",
       "    }\n",
       "\n",
       "    .dataframe tbody tr th {\n",
       "        vertical-align: top;\n",
       "    }\n",
       "\n",
       "    .dataframe thead th {\n",
       "        text-align: right;\n",
       "    }\n",
       "</style>\n",
       "<table border=\"1\" class=\"dataframe\">\n",
       "  <thead>\n",
       "    <tr style=\"text-align: right;\">\n",
       "      <th></th>\n",
       "      <th>first</th>\n",
       "      <th>second</th>\n",
       "      <th>third</th>\n",
       "      <th>fourth</th>\n",
       "    </tr>\n",
       "    <tr>\n",
       "      <th>date</th>\n",
       "      <th></th>\n",
       "      <th></th>\n",
       "      <th></th>\n",
       "      <th></th>\n",
       "    </tr>\n",
       "  </thead>\n",
       "  <tbody>\n",
       "    <tr>\n",
       "      <th>1972-09-04</th>\n",
       "      <td>245.0</td>\n",
       "      <td>NaN</td>\n",
       "      <td>445.0</td>\n",
       "      <td>NaN</td>\n",
       "    </tr>\n",
       "    <tr>\n",
       "      <th>1981-02-12</th>\n",
       "      <td>470.0</td>\n",
       "      <td>445.0</td>\n",
       "      <td>195.0</td>\n",
       "      <td>194.0</td>\n",
       "    </tr>\n",
       "    <tr>\n",
       "      <th>1991-11-14</th>\n",
       "      <td>570.0</td>\n",
       "      <td>200.0</td>\n",
       "      <td>550.0</td>\n",
       "      <td>199.0</td>\n",
       "    </tr>\n",
       "    <tr>\n",
       "      <th>1986-09-30</th>\n",
       "      <td>447.0</td>\n",
       "      <td>599.0</td>\n",
       "      <td>664.0</td>\n",
       "      <td>446.0</td>\n",
       "    </tr>\n",
       "    <tr>\n",
       "      <th>1992-12-01</th>\n",
       "      <td>1001.0</td>\n",
       "      <td>1382.0</td>\n",
       "      <td>949.0</td>\n",
       "      <td>948.0</td>\n",
       "    </tr>\n",
       "  </tbody>\n",
       "</table>\n",
       "</div>"
      ],
      "text/plain": [
       "0            first  second  third  fourth\n",
       "date                                     \n",
       "1972-09-04   245.0     NaN  445.0     NaN\n",
       "1981-02-12   470.0   445.0  195.0   194.0\n",
       "1991-11-14   570.0   200.0  550.0   199.0\n",
       "1986-09-30   447.0   599.0  664.0   446.0\n",
       "1992-12-01  1001.0  1382.0  949.0   948.0"
      ]
     },
     "execution_count": 27,
     "metadata": {},
     "output_type": "execute_result"
    }
   ],
   "source": [
    "# Calculates the differences in price from the guesses and retail\n",
    "# retail - (first/second/third/fourth)\n",
    "diffs_2 = df[['first','second','third','fourth']].rsub(df['retail'],axis=0)\n",
    "diffs_2.head()\n",
    "valid_diffs2 = diffs_2.mask(diffs_2 < 0, other=pd.NA)\n",
    "valid_diffs2.dropna(how='all',inplace=True)\n",
    "valid_diffs2.head(5)"
   ]
  },
  {
   "cell_type": "code",
   "execution_count": 36,
   "id": "6a8697b8",
   "metadata": {
    "scrolled": true
   },
   "outputs": [
    {
     "name": "stdout",
     "output_type": "stream",
     "text": [
      "Changing all Fourth Bids to $1 Higher Than Previous Higher Bid\n",
      "New Valid Round Total: 924\n",
      "--------------------------------------------------------------\n",
      "Number of Winners From Position 1: 88\n",
      "Number of Winners From Position 2: 96\n",
      "Number of Winners From Position 3: 121\n",
      "Number of Winners From Position 4: 619\n"
     ]
    }
   ],
   "source": [
    "winners2 = valid_diffs2.idxmin(axis=1)\n",
    "winners2\n",
    "\n",
    "observed2 = winners2.value_counts().reindex(['first', 'second', 'third', 'fourth'])\n",
    "#print(observed2)\n",
    "print('Changing all Fourth Bids to $1 Higher Than Previous Higher Bid')\n",
    "print('New Valid Round Total: {}'.format(observed2['first']+observed2['second']+observed2['third']+observed2['fourth']))\n",
    "print('--------------------------------------------------------------')\n",
    "print('Number of Winners From Position 1: {}'.format(observed2['first']))\n",
    "print('Number of Winners From Position 2: {}'.format(observed2['second']))\n",
    "print('Number of Winners From Position 3: {}'.format(observed2['third']))\n",
    "print('Number of Winners From Position 4: {}'.format(observed2['fourth']))"
   ]
  }
 ],
 "metadata": {
  "kernelspec": {
   "display_name": "Python 3 (ipykernel)",
   "language": "python",
   "name": "python3"
  },
  "language_info": {
   "codemirror_mode": {
    "name": "ipython",
    "version": 3
   },
   "file_extension": ".py",
   "mimetype": "text/x-python",
   "name": "python",
   "nbconvert_exporter": "python",
   "pygments_lexer": "ipython3",
   "version": "3.9.7"
  }
 },
 "nbformat": 4,
 "nbformat_minor": 5
}
