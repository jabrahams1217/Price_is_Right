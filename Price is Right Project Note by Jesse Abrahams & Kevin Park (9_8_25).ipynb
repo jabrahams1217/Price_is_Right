{
 "cells": [
  {
   "cell_type": "markdown",
   "id": "e6103024",
   "metadata": {},
   "source": [
    "# Validation of Statistical Method for TPIR Contestant Fairness"
   ]
  },
  {
   "cell_type": "code",
   "execution_count": 1,
   "id": "972366e3",
   "metadata": {},
   "outputs": [],
   "source": [
    "import pandas as pd\n",
    "import numpy as np\n",
    "\n",
    "import warnings\n",
    "warnings.filterwarnings('ignore')"
   ]
  },
  {
   "cell_type": "markdown",
   "id": "50fd75db",
   "metadata": {},
   "source": [
    "---\n",
    "## Cleaning up DataFrame and drop any duplicate data"
   ]
  },
  {
   "cell_type": "code",
   "execution_count": 2,
   "id": "55b90c35",
   "metadata": {},
   "outputs": [
    {
     "name": "stdout",
     "output_type": "stream",
     "text": [
      "<class 'pandas.core.frame.DataFrame'>\n",
      "DatetimeIndex: 978 entries, 1972-09-04 to 1996-05-03\n",
      "Data columns (total 5 columns):\n",
      " #   Column  Non-Null Count  Dtype\n",
      "---  ------  --------------  -----\n",
      " 0   first   978 non-null    int32\n",
      " 1   second  978 non-null    int32\n",
      " 2   third   978 non-null    int32\n",
      " 3   fourth  978 non-null    int32\n",
      " 4   retail  978 non-null    int32\n",
      "dtypes: int32(5)\n",
      "memory usage: 26.7 KB\n"
     ]
    }
   ],
   "source": [
    "# Cleaning up the DataFrame\n",
    "df = pd.read_excel(\"./price_is_right.xlsx\", header=None).transpose()\n",
    "df.columns = df.iloc[0]\n",
    "df = df.drop(index=0).reset_index(drop=True)\n",
    "df.drop(columns=df.columns[0],inplace=True)\n",
    "df['date'] = pd.to_datetime(df['date'])\n",
    "df.set_index('date',inplace=True)\n",
    "df = df.drop_duplicates()\n",
    "df = df.astype(int)\n",
    "og_df = df\n",
    "df.info()"
   ]
  },
  {
   "cell_type": "markdown",
   "id": "c24f8dd9",
   "metadata": {},
   "source": [
    "---"
   ]
  },
  {
   "cell_type": "markdown",
   "id": "c30adf8f",
   "metadata": {},
   "source": [
    "## Drop rounds where contestants all overbid"
   ]
  },
  {
   "cell_type": "code",
   "execution_count": 3,
   "id": "9a2bcf09",
   "metadata": {},
   "outputs": [
    {
     "data": {
      "text/plain": [
       "25"
      ]
     },
     "execution_count": 3,
     "metadata": {},
     "output_type": "execute_result"
    }
   ],
   "source": [
    "# Create a mask/filter where all contestants placed bids greater than 'retail'\n",
    "mask = df.drop(columns='retail').gt(df['retail'],axis=0).all(axis=1)\n",
    "len(df[mask])"
   ]
  },
  {
   "cell_type": "markdown",
   "id": "124a6d79",
   "metadata": {},
   "source": [
    "25 dates where overbids happened. Let's drop these"
   ]
  },
  {
   "cell_type": "code",
   "execution_count": 4,
   "id": "bdb3b90c",
   "metadata": {},
   "outputs": [
    {
     "data": {
      "text/plain": [
       "929"
      ]
     },
     "execution_count": 4,
     "metadata": {},
     "output_type": "execute_result"
    }
   ],
   "source": [
    "overbid_dates = df.loc[mask].index # Get the dates where an extra round was played due to overbids\n",
    "df = df.drop(overbid_dates) # Drop the rows overbid dates\n",
    "len(df)"
   ]
  },
  {
   "cell_type": "code",
   "execution_count": 5,
   "id": "5615d341",
   "metadata": {},
   "outputs": [
    {
     "data": {
      "text/plain": [
       "49"
      ]
     },
     "execution_count": 5,
     "metadata": {},
     "output_type": "execute_result"
    }
   ],
   "source": [
    "len(og_df) - len(df) # Amount of rounds that were dropped due to 4 players overbidding"
   ]
  },
  {
   "cell_type": "markdown",
   "id": "42b1a780",
   "metadata": {},
   "source": [
    "## Calculations to Determine Winner"
   ]
  },
  {
   "cell_type": "code",
   "execution_count": 6,
   "id": "dcd76a3c",
   "metadata": {},
   "outputs": [
    {
     "data": {
      "text/html": [
       "<div>\n",
       "<style scoped>\n",
       "    .dataframe tbody tr th:only-of-type {\n",
       "        vertical-align: middle;\n",
       "    }\n",
       "\n",
       "    .dataframe tbody tr th {\n",
       "        vertical-align: top;\n",
       "    }\n",
       "\n",
       "    .dataframe thead th {\n",
       "        text-align: right;\n",
       "    }\n",
       "</style>\n",
       "<table border=\"1\" class=\"dataframe\">\n",
       "  <thead>\n",
       "    <tr style=\"text-align: right;\">\n",
       "      <th></th>\n",
       "      <th>first</th>\n",
       "      <th>second</th>\n",
       "      <th>third</th>\n",
       "      <th>fourth</th>\n",
       "    </tr>\n",
       "    <tr>\n",
       "      <th>date</th>\n",
       "      <th></th>\n",
       "      <th></th>\n",
       "      <th></th>\n",
       "      <th></th>\n",
       "    </tr>\n",
       "  </thead>\n",
       "  <tbody>\n",
       "    <tr>\n",
       "      <th>1972-09-04</th>\n",
       "      <td>245</td>\n",
       "      <td>-305</td>\n",
       "      <td>445</td>\n",
       "      <td>-405</td>\n",
       "    </tr>\n",
       "    <tr>\n",
       "      <th>1981-02-12</th>\n",
       "      <td>470</td>\n",
       "      <td>445</td>\n",
       "      <td>195</td>\n",
       "      <td>444</td>\n",
       "    </tr>\n",
       "    <tr>\n",
       "      <th>1991-11-14</th>\n",
       "      <td>570</td>\n",
       "      <td>200</td>\n",
       "      <td>550</td>\n",
       "      <td>500</td>\n",
       "    </tr>\n",
       "    <tr>\n",
       "      <th>1986-09-30</th>\n",
       "      <td>447</td>\n",
       "      <td>599</td>\n",
       "      <td>664</td>\n",
       "      <td>349</td>\n",
       "    </tr>\n",
       "    <tr>\n",
       "      <th>1992-12-01</th>\n",
       "      <td>1001</td>\n",
       "      <td>1382</td>\n",
       "      <td>949</td>\n",
       "      <td>948</td>\n",
       "    </tr>\n",
       "  </tbody>\n",
       "</table>\n",
       "</div>"
      ],
      "text/plain": [
       "0           first  second  third  fourth\n",
       "date                                    \n",
       "1972-09-04    245    -305    445    -405\n",
       "1981-02-12    470     445    195     444\n",
       "1991-11-14    570     200    550     500\n",
       "1986-09-30    447     599    664     349\n",
       "1992-12-01   1001    1382    949     948"
      ]
     },
     "execution_count": 6,
     "metadata": {},
     "output_type": "execute_result"
    }
   ],
   "source": [
    "# Calculates the differences in price from the guesses and retail\n",
    "# retail - (first/second/third/fourth)\n",
    "diffs = df[['first','second','third','fourth']].rsub(df['retail'],axis=0)\n",
    "diffs.head()"
   ]
  },
  {
   "cell_type": "code",
   "execution_count": 7,
   "id": "a2443284",
   "metadata": {},
   "outputs": [
    {
     "data": {
      "text/html": [
       "<div>\n",
       "<style scoped>\n",
       "    .dataframe tbody tr th:only-of-type {\n",
       "        vertical-align: middle;\n",
       "    }\n",
       "\n",
       "    .dataframe tbody tr th {\n",
       "        vertical-align: top;\n",
       "    }\n",
       "\n",
       "    .dataframe thead th {\n",
       "        text-align: right;\n",
       "    }\n",
       "</style>\n",
       "<table border=\"1\" class=\"dataframe\">\n",
       "  <thead>\n",
       "    <tr style=\"text-align: right;\">\n",
       "      <th></th>\n",
       "      <th>first</th>\n",
       "      <th>second</th>\n",
       "      <th>third</th>\n",
       "      <th>fourth</th>\n",
       "    </tr>\n",
       "    <tr>\n",
       "      <th>date</th>\n",
       "      <th></th>\n",
       "      <th></th>\n",
       "      <th></th>\n",
       "      <th></th>\n",
       "    </tr>\n",
       "  </thead>\n",
       "  <tbody>\n",
       "    <tr>\n",
       "      <th>1972-09-04</th>\n",
       "      <td>245.0</td>\n",
       "      <td>NaN</td>\n",
       "      <td>445.0</td>\n",
       "      <td>NaN</td>\n",
       "    </tr>\n",
       "    <tr>\n",
       "      <th>1981-02-12</th>\n",
       "      <td>470.0</td>\n",
       "      <td>445.0</td>\n",
       "      <td>195.0</td>\n",
       "      <td>444.0</td>\n",
       "    </tr>\n",
       "    <tr>\n",
       "      <th>1991-11-14</th>\n",
       "      <td>570.0</td>\n",
       "      <td>200.0</td>\n",
       "      <td>550.0</td>\n",
       "      <td>500.0</td>\n",
       "    </tr>\n",
       "    <tr>\n",
       "      <th>1986-09-30</th>\n",
       "      <td>447.0</td>\n",
       "      <td>599.0</td>\n",
       "      <td>664.0</td>\n",
       "      <td>349.0</td>\n",
       "    </tr>\n",
       "    <tr>\n",
       "      <th>1992-12-01</th>\n",
       "      <td>1001.0</td>\n",
       "      <td>1382.0</td>\n",
       "      <td>949.0</td>\n",
       "      <td>948.0</td>\n",
       "    </tr>\n",
       "  </tbody>\n",
       "</table>\n",
       "</div>"
      ],
      "text/plain": [
       "0            first  second  third  fourth\n",
       "date                                     \n",
       "1972-09-04   245.0     NaN  445.0     NaN\n",
       "1981-02-12   470.0   445.0  195.0   444.0\n",
       "1991-11-14   570.0   200.0  550.0   500.0\n",
       "1986-09-30   447.0   599.0  664.0   349.0\n",
       "1992-12-01  1001.0  1382.0  949.0   948.0"
      ]
     },
     "execution_count": 7,
     "metadata": {},
     "output_type": "execute_result"
    }
   ],
   "source": [
    "# Drop any guesses that go over (negative values) and replace with NaN's\n",
    "valid_diffs = diffs.mask(diffs < 0, other=pd.NA)\n",
    "valid_diffs.head()"
   ]
  },
  {
   "cell_type": "markdown",
   "id": "1f436b63",
   "metadata": {},
   "source": [
    "---\n",
    "## Number of Winners on Highest & Lowest Bid"
   ]
  },
  {
   "cell_type": "code",
   "execution_count": 8,
   "id": "07fed492",
   "metadata": {},
   "outputs": [
    {
     "data": {
      "text/plain": [
       "date\n",
       "1972-09-04     first\n",
       "1981-02-12     third\n",
       "1991-11-14    second\n",
       "1986-09-30    fourth\n",
       "1992-12-01    fourth\n",
       "dtype: object"
      ]
     },
     "execution_count": 8,
     "metadata": {},
     "output_type": "execute_result"
    }
   ],
   "source": [
    "# Display the contestant that won the game\n",
    "winners = valid_diffs.idxmin(axis=1)\n",
    "winners.head()"
   ]
  },
  {
   "cell_type": "code",
   "execution_count": 9,
   "id": "833fe382",
   "metadata": {},
   "outputs": [
    {
     "data": {
      "text/plain": [
       "first     169\n",
       "second    185\n",
       "third     212\n",
       "fourth    363\n",
       "dtype: int64"
      ]
     },
     "execution_count": 9,
     "metadata": {},
     "output_type": "execute_result"
    }
   ],
   "source": [
    "winners_count = winners.value_counts().reindex(['first', 'second', 'third', 'fourth'])\n",
    "winners_count"
   ]
  },
  {
   "cell_type": "code",
   "execution_count": 10,
   "id": "7a24af97",
   "metadata": {},
   "outputs": [
    {
     "data": {
      "text/plain": [
       "True     595\n",
       "False    334\n",
       "dtype: int64"
      ]
     },
     "execution_count": 10,
     "metadata": {},
     "output_type": "execute_result"
    }
   ],
   "source": [
    "# Display the contestant that bid the highest\n",
    "highest_bidder = df.drop(columns='retail').idxmax(axis=1)\n",
    "# Find the number of Highest Bid Winners\n",
    "highest_bid_winner = (highest_bidder == winners)\n",
    "highest_bid_winner.value_counts()"
   ]
  },
  {
   "cell_type": "code",
   "execution_count": 11,
   "id": "b00f81be",
   "metadata": {},
   "outputs": [],
   "source": [
    "num_highest_bid_winners = highest_bid_winner.value_counts().loc[True]"
   ]
  },
  {
   "cell_type": "code",
   "execution_count": 12,
   "id": "7df6ed4c",
   "metadata": {},
   "outputs": [
    {
     "data": {
      "text/plain": [
       "False    850\n",
       "True      79\n",
       "dtype: int64"
      ]
     },
     "execution_count": 12,
     "metadata": {},
     "output_type": "execute_result"
    }
   ],
   "source": [
    "# Display the contestant that bid the lowset\n",
    "lowest_bidder = df.drop(columns='retail').idxmin(axis=1)\n",
    "# Find the number of Highest Bid Winners\n",
    "lowest_bid_winner = (lowest_bidder == winners)\n",
    "lowest_bid_winner.value_counts()"
   ]
  },
  {
   "cell_type": "code",
   "execution_count": 13,
   "id": "e43a5e69",
   "metadata": {},
   "outputs": [],
   "source": [
    "num_lowest_bid_winners = lowest_bid_winner.value_counts().loc[True]"
   ]
  },
  {
   "cell_type": "code",
   "execution_count": 14,
   "id": "dab577e5",
   "metadata": {},
   "outputs": [
    {
     "name": "stdout",
     "output_type": "stream",
     "text": [
      "Number of Highest Bid Winners: 595\n",
      "Pct of Highest Bid Winners: 0.64\n",
      "Number of Lowest Bid Winners: 79\n",
      "Pct of Lowest Bid Winners: 0.09\n"
     ]
    }
   ],
   "source": [
    "print(f'Number of Highest Bid Winners: {num_highest_bid_winners}')\n",
    "print(f'Pct of Highest Bid Winners: {num_highest_bid_winners/len(df):.2f}')\n",
    "print(f'Number of Lowest Bid Winners: {num_lowest_bid_winners}')\n",
    "print(f'Pct of Lowest Bid Winners: {num_lowest_bid_winners/len(df):.2f}')"
   ]
  },
  {
   "cell_type": "markdown",
   "id": "859c2e22",
   "metadata": {},
   "source": [
    "---"
   ]
  },
  {
   "cell_type": "markdown",
   "id": "561825fb",
   "metadata": {},
   "source": [
    "## Pearson chi-squared goodness-of-fit test using Scipy.\n",
    "    \n",
    "    -Null hypothesis that each player has probability of 0.25 of winning\n",
    "    -3 Degrees of Freedom\n",
    "    -1% Significnce Level\n",
    "    -Compared to 11.345 critical value"
   ]
  },
  {
   "cell_type": "code",
   "execution_count": 15,
   "id": "b59ebdf9",
   "metadata": {},
   "outputs": [
    {
     "name": "stdout",
     "output_type": "stream",
     "text": [
      "Observed: [169 185 212 363]\n",
      "Expected: [232.25, 232.25, 232.25, 232.25]\n",
      "Chi-squared statistic: 102.212\n",
      "p-value: 5.198e-22\n",
      "Critical value at α = 0.01 and dof = 3: 11.345\n"
     ]
    }
   ],
   "source": [
    "from scipy.stats import chisquare\n",
    "from scipy.stats import chi2\n",
    "\n",
    "# Get observed frequencies in a consistent order\n",
    "observed = winners.value_counts().reindex(['first', 'second', 'third', 'fourth'])\n",
    "\n",
    "# Create expected frequencies (equal distribution)\n",
    "total = observed.sum()\n",
    "expected = ([float(total / 4)] * 4)\n",
    "\n",
    "# Run chi-squared test\n",
    "chi2_stat, p_value = chisquare(f_obs=observed, f_exp=expected)\n",
    "\n",
    "print(\"Observed:\", observed.values)\n",
    "print(\"Expected:\", expected)\n",
    "print(f\"Chi-squared statistic: {chi2_stat:.3f}\")\n",
    "print(f\"p-value: {p_value:.3e}\")\n",
    "\n",
    "# Significance level (e.g., 0.01 for 99% confidence)\n",
    "alpha = 0.01\n",
    "# Degrees of freedom\n",
    "dof = 3\n",
    "# Critical value (right-tail)\n",
    "critical_value = chi2.ppf(1 - alpha, dof)\n",
    "print(f\"Critical value at α = {alpha} and dof = {dof}: {critical_value:.3f}\")"
   ]
  },
  {
   "cell_type": "markdown",
   "id": "bc5ed1cf",
   "metadata": {},
   "source": [
    "> Since our calculated value for the Pearson chi-squared goodness-of-fit test of 102.212 exceeds the critical value of 11.345, we can reject the null hypothesis."
   ]
  },
  {
   "cell_type": "markdown",
   "id": "867559b4",
   "metadata": {},
   "source": [
    "---\n",
    "## Replacing the final bid with previous highest bid + 1"
   ]
  },
  {
   "cell_type": "code",
   "execution_count": 16,
   "id": "df45e12e",
   "metadata": {},
   "outputs": [
    {
     "data": {
      "text/html": [
       "<div>\n",
       "<style scoped>\n",
       "    .dataframe tbody tr th:only-of-type {\n",
       "        vertical-align: middle;\n",
       "    }\n",
       "\n",
       "    .dataframe tbody tr th {\n",
       "        vertical-align: top;\n",
       "    }\n",
       "\n",
       "    .dataframe thead th {\n",
       "        text-align: right;\n",
       "    }\n",
       "</style>\n",
       "<table border=\"1\" class=\"dataframe\">\n",
       "  <thead>\n",
       "    <tr style=\"text-align: right;\">\n",
       "      <th></th>\n",
       "      <th>first</th>\n",
       "      <th>second</th>\n",
       "      <th>third</th>\n",
       "      <th>fourth</th>\n",
       "      <th>retail</th>\n",
       "    </tr>\n",
       "    <tr>\n",
       "      <th>date</th>\n",
       "      <th></th>\n",
       "      <th></th>\n",
       "      <th></th>\n",
       "      <th></th>\n",
       "      <th></th>\n",
       "    </tr>\n",
       "  </thead>\n",
       "  <tbody>\n",
       "    <tr>\n",
       "      <th>1972-09-04</th>\n",
       "      <td>350</td>\n",
       "      <td>900</td>\n",
       "      <td>150</td>\n",
       "      <td>901</td>\n",
       "      <td>595</td>\n",
       "    </tr>\n",
       "    <tr>\n",
       "      <th>1981-02-12</th>\n",
       "      <td>625</td>\n",
       "      <td>650</td>\n",
       "      <td>900</td>\n",
       "      <td>901</td>\n",
       "      <td>1095</td>\n",
       "    </tr>\n",
       "    <tr>\n",
       "      <th>1991-11-14</th>\n",
       "      <td>1130</td>\n",
       "      <td>1500</td>\n",
       "      <td>1150</td>\n",
       "      <td>1501</td>\n",
       "      <td>1700</td>\n",
       "    </tr>\n",
       "    <tr>\n",
       "      <th>1986-09-30</th>\n",
       "      <td>1002</td>\n",
       "      <td>850</td>\n",
       "      <td>785</td>\n",
       "      <td>1003</td>\n",
       "      <td>1449</td>\n",
       "    </tr>\n",
       "    <tr>\n",
       "      <th>1992-12-01</th>\n",
       "      <td>950</td>\n",
       "      <td>569</td>\n",
       "      <td>1002</td>\n",
       "      <td>1003</td>\n",
       "      <td>1951</td>\n",
       "    </tr>\n",
       "  </tbody>\n",
       "</table>\n",
       "</div>"
      ],
      "text/plain": [
       "0           first  second  third  fourth  retail\n",
       "date                                            \n",
       "1972-09-04    350     900    150     901     595\n",
       "1981-02-12    625     650    900     901    1095\n",
       "1991-11-14   1130    1500   1150    1501    1700\n",
       "1986-09-30   1002     850    785    1003    1449\n",
       "1992-12-01    950     569   1002    1003    1951"
      ]
     },
     "execution_count": 16,
     "metadata": {},
     "output_type": "execute_result"
    }
   ],
   "source": [
    "df['fourth']=df[['first','second','third']].max(axis=1)+1\n",
    "df.head()"
   ]
  },
  {
   "cell_type": "code",
   "execution_count": 17,
   "id": "34e0778f",
   "metadata": {
    "scrolled": true
   },
   "outputs": [
    {
     "data": {
      "text/html": [
       "<div>\n",
       "<style scoped>\n",
       "    .dataframe tbody tr th:only-of-type {\n",
       "        vertical-align: middle;\n",
       "    }\n",
       "\n",
       "    .dataframe tbody tr th {\n",
       "        vertical-align: top;\n",
       "    }\n",
       "\n",
       "    .dataframe thead th {\n",
       "        text-align: right;\n",
       "    }\n",
       "</style>\n",
       "<table border=\"1\" class=\"dataframe\">\n",
       "  <thead>\n",
       "    <tr style=\"text-align: right;\">\n",
       "      <th></th>\n",
       "      <th>first</th>\n",
       "      <th>second</th>\n",
       "      <th>third</th>\n",
       "      <th>fourth</th>\n",
       "    </tr>\n",
       "    <tr>\n",
       "      <th>date</th>\n",
       "      <th></th>\n",
       "      <th></th>\n",
       "      <th></th>\n",
       "      <th></th>\n",
       "    </tr>\n",
       "  </thead>\n",
       "  <tbody>\n",
       "    <tr>\n",
       "      <th>1972-09-04</th>\n",
       "      <td>245.0</td>\n",
       "      <td>NaN</td>\n",
       "      <td>445.0</td>\n",
       "      <td>NaN</td>\n",
       "    </tr>\n",
       "    <tr>\n",
       "      <th>1981-02-12</th>\n",
       "      <td>470.0</td>\n",
       "      <td>445.0</td>\n",
       "      <td>195.0</td>\n",
       "      <td>194.0</td>\n",
       "    </tr>\n",
       "    <tr>\n",
       "      <th>1991-11-14</th>\n",
       "      <td>570.0</td>\n",
       "      <td>200.0</td>\n",
       "      <td>550.0</td>\n",
       "      <td>199.0</td>\n",
       "    </tr>\n",
       "    <tr>\n",
       "      <th>1986-09-30</th>\n",
       "      <td>447.0</td>\n",
       "      <td>599.0</td>\n",
       "      <td>664.0</td>\n",
       "      <td>446.0</td>\n",
       "    </tr>\n",
       "    <tr>\n",
       "      <th>1992-12-01</th>\n",
       "      <td>1001.0</td>\n",
       "      <td>1382.0</td>\n",
       "      <td>949.0</td>\n",
       "      <td>948.0</td>\n",
       "    </tr>\n",
       "  </tbody>\n",
       "</table>\n",
       "</div>"
      ],
      "text/plain": [
       "0            first  second  third  fourth\n",
       "date                                     \n",
       "1972-09-04   245.0     NaN  445.0     NaN\n",
       "1981-02-12   470.0   445.0  195.0   194.0\n",
       "1991-11-14   570.0   200.0  550.0   199.0\n",
       "1986-09-30   447.0   599.0  664.0   446.0\n",
       "1992-12-01  1001.0  1382.0  949.0   948.0"
      ]
     },
     "execution_count": 17,
     "metadata": {},
     "output_type": "execute_result"
    }
   ],
   "source": [
    "# Calculates the differences in price from the guesses and retail\n",
    "# retail - (first/second/third/fourth)\n",
    "diffs_2 = df[['first','second','third','fourth']].rsub(df['retail'],axis=0)\n",
    "valid_diffs2 = diffs_2.mask(diffs_2 < 0, other=pd.NA)\n",
    "valid_diffs2.dropna(how='all',inplace=True)\n",
    "valid_diffs2.head()"
   ]
  },
  {
   "cell_type": "code",
   "execution_count": 18,
   "id": "6a8697b8",
   "metadata": {
    "scrolled": true
   },
   "outputs": [
    {
     "name": "stdout",
     "output_type": "stream",
     "text": [
      "Changing all Fourth Bids to $1 Higher Than Previous Higher Bid\n",
      "New Valid Round Total: 901\n",
      "--------------------------------------------------------------\n",
      "Number of Winners From Position 1: 85\n",
      "Number of Winners From Position 2: 95\n",
      "Number of Winners From Position 3: 116\n",
      "Number of Winners From Position 4: 605\n",
      "Percent of Winners From Position 1: 0.094\n",
      "Percent of Winners From Position 2: 0.105\n",
      "Percent of Winners From Position 3: 0.129\n",
      "Percent of Winners From Position 4: 0.671\n"
     ]
    }
   ],
   "source": [
    "winners2 = valid_diffs2.idxmin(axis=1)\n",
    "winners2\n",
    "\n",
    "observed2 = winners2.value_counts().reindex(['first', 'second', 'third', 'fourth'])\n",
    "#print(observed2)\n",
    "print('Changing all Fourth Bids to $1 Higher Than Previous Higher Bid')\n",
    "print(f'New Valid Round Total: {len(winners2)}')\n",
    "print('--------------------------------------------------------------')\n",
    "print(f'Number of Winners From Position 1: {observed2.loc[\"first\"]}')\n",
    "print(f'Number of Winners From Position 2: {observed2.loc[\"second\"]}')\n",
    "print(f'Number of Winners From Position 3: {observed2.loc[\"third\"]}')\n",
    "print(f'Number of Winners From Position 4: {observed2.loc[\"fourth\"]}')\n",
    "\n",
    "print(f'Percent of Winners From Position 1: {observed2.loc[\"first\"]/901:.3f}')\n",
    "print(f'Percent of Winners From Position 2: {observed2.loc[\"second\"]/901:.3f}')\n",
    "print(f'Percent of Winners From Position 3: {observed2.loc[\"third\"]/901:.3f}')\n",
    "print(f'Percent of Winners From Position 4: {observed2.loc[\"fourth\"]/901:.3f}')"
   ]
  }
 ],
 "metadata": {
  "kernelspec": {
   "display_name": "Python 3 (ipykernel)",
   "language": "python",
   "name": "python3"
  },
  "language_info": {
   "codemirror_mode": {
    "name": "ipython",
    "version": 3
   },
   "file_extension": ".py",
   "mimetype": "text/x-python",
   "name": "python",
   "nbconvert_exporter": "python",
   "pygments_lexer": "ipython3",
   "version": "3.9.7"
  }
 },
 "nbformat": 4,
 "nbformat_minor": 5
}
